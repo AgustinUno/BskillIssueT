{
 "cells": [
  {
   "cell_type": "code",
   "execution_count": 1,
   "id": "d11fd07f",
   "metadata": {},
   "outputs": [
    {
     "name": "stdout",
     "output_type": "stream",
     "text": [
      "Enter distance in km: 1\n",
      "Enter passenger type (P/E/S/R): s\n",
      "Passenger type: Student\n",
      "Total fare: 10 pesos\n"
     ]
    }
   ],
   "source": [
    "distance = float(input(\"Enter distance in km: \"))\n",
    "passenger_type_input = input(\"Enter passenger type (P/E/S/R): \").upper()\n",
    "\n",
    "passenger_types = {'P': 'PWD', 'E': 'Elder', 'S': 'Student', 'R': 'Regular'}\n",
    "\n",
    "passenger_type = passenger_types.get(passenger_type_input, 'Regular')\n",
    "\n",
    "base_fare = 10 if passenger_type in ['PWD', 'Student', 'Elder'] else 12\n",
    "base_fare += distance - 4\n",
    "\n",
    "print(\"Passenger type:\", passenger_type)\n",
    "print(\"Total fare:\", fare, \"pesos\")\n"
   ]
  },
  {
   "cell_type": "code",
   "execution_count": null,
   "id": "1e0cfe8f",
   "metadata": {},
   "outputs": [],
   "source": [
    "coin_input = int(input(\"Enter amount: \"))\n",
    "coins_arr = [1000, 500, 200, 100, 50, 20, 10 ,5, 1]\n",
    "\n",
    "for i in range(0, 8):\n",
    "    occur = coin_input // coins_arr[i]\n",
    "    print(coins_arr[i],\":\",occur)\n",
    "    coin_input = coin_input % coins_arr[i]\n",
    "    "
   ]
  },
  {
   "cell_type": "code",
   "execution_count": null,
   "id": "7920c692",
   "metadata": {},
   "outputs": [],
   "source": []
  }
 ],
 "metadata": {
  "kernelspec": {
   "display_name": "Python 3 (ipykernel)",
   "language": "python",
   "name": "python3"
  },
  "language_info": {
   "codemirror_mode": {
    "name": "ipython",
    "version": 3
   },
   "file_extension": ".py",
   "mimetype": "text/x-python",
   "name": "python",
   "nbconvert_exporter": "python",
   "pygments_lexer": "ipython3",
   "version": "3.11.5"
  }
 },
 "nbformat": 4,
 "nbformat_minor": 5
}
